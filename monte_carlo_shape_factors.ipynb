{
 "cells": [
  {
   "cell_type": "markdown",
   "metadata": {
    "colab_type": "text",
    "id": "pZIGaFjDIftM"
   },
   "source": [
    "# Monte Carlo Simulations for Thermal Radiation Shape Factors\n",
    "\n",
    "https://colab.research.google.com/drive/11ImDq8G1j-Y1_q2O54FVIo6ehHvp-9iD\n",
    "\n",
    "In this notebook, I confirm the method for determining shape factor as described in \"Monte Carlo Technique for the Determination of Thermal Radiation Shape Factors\". I investigate the following 4 geometrical pairs: a cylinder to a plane, a plane to a cylinder, a sphere to a circle, and a circle to a sphere. As in the original paper, I choose points on the emitting surface, I choose a random cone angle and azimuth angle, and finally I examine whether such a ray would have landed on the receiving surface through simple trigonometric equations. The main difference with my current method from the original paper is that I choose points on the surface randomly rather than using an area grid. Further, I examine trade offs between time and accuracy. I also examine the efficacy of programming calculations with <i>arrays</i> rather than <i>iterative loops</i>."
   ]
  },
  {
   "cell_type": "markdown",
   "metadata": {
    "colab_type": "text",
    "id": "pLCoRgsbLvlJ"
   },
   "source": [
    "\n",
    "<h2>Layout</h2>\n",
    "To properly view the execution, blocks should be executed in order from top to bottom. (Hint: If you are new to Colab, you can run the code block by pressing the play button on the block or by pressing Shift+Enter while highlighting the block.)\n",
    "<ul><li>The first block imports <i>numpy</i>, which is the package used for efficient mathematical calculations, and <i>time</i>, which is used to measure calculation times. In the first code block, constant parameters such as the locations of the plane, cylinder, and sphere are assigned.</li>\n",
    "<li>The second code block contains functions used in all simulations, specifically, random number generators and a function to print results.</li>\n",
    "<li>Each of the next four code blocks are four Monte Carlo simulations in the following order: \n",
    "\n",
    "</li>\n",
    "<ul><li>Cylinder to Plane</li>\n",
    "<li>Plane to Cylinder</li>\n",
    "<li>Sphere to Circle</li>\n",
    "<li>Circle to Sphere</li>\n",
    "</ul>\n",
    "</ul>\n",
    "<h2>Naming Convention</h2>\n",
    "In translating equations in the paper to code, here is how I named variables in the code.\n",
    "<br>Symbol in Paper, Spelling in Code\n",
    "<br>θ, theta\n",
    "<br>φ, phi\n",
    "<br>ψ, psi\n",
    "<br>α, alpha\n",
    "<br>β, beta\n",
    "<br>γ, gamma\n",
    "<br>ξ, xi\n",
    "<br>E, big_e\n",
    "<br>G, big_g\n",
    "<br>2π-φ, psi2\n",
    "<br>\n",
    "<br>Functions to calculate variables are given the name <b>f_*</b>\n",
    "<br>For example, a function to calculate <b>y0</b> is named <b>f_y0</b>.\n",
    "<br>Functions to generate random variables are given the name <b>rand_gen_*</b>\n",
    "<br>Main functions that run the Monte Carlo simulation by calling other functions are named <b>main_*</b>\n",
    "<br>For example, the function to run the simulation for cylinder to plane is named <b>main_c_p</b>"
   ]
  },
  {
   "cell_type": "markdown",
   "metadata": {
    "colab_type": "text",
    "id": "kiaXwNi1V7uK"
   },
   "source": [
    "#Set Parameter Constants"
   ]
  },
  {
   "cell_type": "code",
   "execution_count": 0,
   "metadata": {
    "colab": {},
    "colab_type": "code",
    "id": "gBMekd-XNaIp"
   },
   "outputs": [],
   "source": [
    "#import numpy to optimize calculations with arrays\n",
    "import numpy as np\n",
    "#import time to measure calculation time\n",
    "from time import time\n",
    "\n",
    "#Plane and Cylinder\n",
    "params_cp={\n",
    "    'x_cyl': 5.0,\n",
    "    'y_cyl': 4.0,\n",
    "    'r_cyl': 2.0,\n",
    "    'z_min': -8.0,\n",
    "    'z_max': -2.0,\n",
    "    'x_plane': 0.0,\n",
    "    'y_min': 0.0,\n",
    "    'y_max': 8.0\n",
    "}\n",
    "\n",
    "#Theoretical Values\n",
    "theory_c_p = 0.1394\n",
    "theory_p_c = 0.2189\n",
    "\n",
    "#Circle and Sphere\n",
    "params_sc = {\n",
    "    'x_sph': 5.0,\n",
    "    'y_sph': 5.0,\n",
    "    'z_sph': -5.0,\n",
    "    'r_sph': 2.0,\n",
    "    'x_cir': 0.0,\n",
    "    'y_cir': 5.0,\n",
    "    'z_cir': -5.0,\n",
    "    'r_cir': 3.0\n",
    "}\n",
    "\n",
    "#Theoretical Values\n",
    "theory_s_c = 0.0713\n",
    "#Calculate circle to sphere shape factor by reciprocity\n",
    "area_ratio = (params_sc['r_cir']**2 *np.pi)/(4*np.pi * (params_sc['r_sph']**2))\n",
    "theory_c_s = theory_s_c / area_ratio\n"
   ]
  },
  {
   "cell_type": "markdown",
   "metadata": {
    "colab_type": "text",
    "id": "fmON-cTsV5Ux"
   },
   "source": [
    "#Create Shared Functions\n",
    "I use 3 types of random number generators:\n",
    "<ul>\n",
    "<li>A generator that produces numbers between a max and min, for example, to generate a <i>y0</i> between <i>ymin</i> and <i>ymax</i></li>\n",
    "<li>A generator that produces numbers between 0 and 2pi to generate a number of angles, such as the azimuth</li>\n",
    "<li>A generator that produces cone angles, using arcsin(sqrt(rand))\n",
    "</ul>\n",
    "<br>The print function prints the number of iterations, the result from the Monte Carlo simulation, the error, the time taken, and the calculation method used."
   ]
  },
  {
   "cell_type": "code",
   "execution_count": 0,
   "metadata": {
    "colab": {},
    "colab_type": "code",
    "id": "GOJyDcF8Xvkk"
   },
   "outputs": [],
   "source": [
    "def rand_gen_max_min(shape,max_,min_):\n",
    "    return np.random.random(shape) * (max_ - min_) + min_ \n",
    "def rand_gen_angle(shape):\n",
    "    return np.random.random(shape) * 2 * np.pi\n",
    "def rand_gen_cone(shape):\n",
    "    return np.arcsin(np.sqrt(np.random.random(shape)))\n",
    "def print_result_and_time(func,iterations,params,theory,method):\n",
    "    iterations = int(iterations)\n",
    "    t = time()\n",
    "    res = func(iterations,**params)\n",
    "    print('{:1.0e}\\t{:.4f}\\t{:1.1f}%\\t{:1.2f}\\t{}'\n",
    "          .format(iterations,res,(res-theory)/theory*100,time()-t,method))\n"
   ]
  },
  {
   "cell_type": "markdown",
   "metadata": {
    "colab_type": "text",
    "id": "if7-0-iqTx-Y"
   },
   "source": [
    "\n",
    "![alt text](https://user-images.githubusercontent.com/48815706/79038911-12daeb00-7b92-11ea-9e74-d358862243fb.png)\n",
    "\n",
    "#Cylinder to Plane\n",
    "\n",
    "Here, I use 2 methods. First, I run the calculation using an iterative approach. This involves generating 4 random variables, <i>z0</i> and <i>psi</i> describe a point on the cylinder and <i>theta</i> and <i>phi</i> describe the direction of a single ray. The ray is followed to the plane x=0, after which the ray's r, y, and z are calculated with the governing equations from the paper. If r is positive, and y and z are within the appropriate range, 1 is added to the count of valid rays. After the iterations, the count is divided by the number of iterations to find the shape factor.\n",
    "<br><br>For a second method, random numbers for the 4 variables are generated in an array of length equal to number of iterations. Then, all calculations are done in an array form. The r, y, and z criteria output boolean arrays and simple boolean logic is used to get an array of boolean array of valid trials. The boolean array is summed and divided by iterations. Notably, the second method can be one or two orders of magnitude faster than the first.\n",
    "<br><br>\n",
    "<h2>Derivation of Point of Intersection</h2>\n",
    "\n",
    "1.   <p>Generate random numbers.</p>\n",
    "<p>z0 = rand * (-2--8) -8</p>\n",
    "<p>theta = arcsin(sqrt(rand))</p>\n",
    "<p>phi = rand * 2pi</p>\n",
    "<p>psi = rand * 2pi</p>\n",
    "2.   <p>Find point of emission.</p>\n",
    "<p>x0 = xc-rc*sin(psi) [from paper]</p>\n",
    "<p>y0 = yc-rc*cos(psi) [from paper]</p>\n",
    "<p>z0 given above</p>\n",
    "3.   <p>Follow ray to target plane.</p>\n",
    "<p>x = 0</p>\n",
    "<p>x = x0 + r*cos(theta)*sin(2pi-psi) + r*sin(theta)*cos(E)*cos(2pi-psi) [from paper]</p>\n",
    "<p>r = (x-x0) / [cos(theta)*sin(2pi-psi) + r*sin(theta)*cos(E)*cos(2pi-psi)]</p>\n",
    "<p>r must be positive. A negative r represents a ray that has extended in the direction opposite the plane.\n",
    "4.  <p>See if resulting y and z points are between the ymin and ymax and zmin and zmax, respectively.</p>\n",
    "<p><img width=300px src=\"https://user-images.githubusercontent.com/48815706/79050333-2d3ab600-7bde-11ea-8559-cc8c185b2c2b.JPG\">[from paper]</p><p>See if y is between 0 and 8.</p><p>See if z is between -8 and -2.</p>\n",
    "\n",
    "\n"
   ]
  },
  {
   "cell_type": "code",
   "execution_count": 0,
   "metadata": {
    "colab": {
     "base_uri": "https://localhost:8080/",
     "height": 323
    },
    "colab_type": "code",
    "id": "FcPSwhmgINXS",
    "outputId": "6770e046-abf6-43af-ea90-62e46f810ae8"
   },
   "outputs": [
    {
     "name": "stdout",
     "output_type": "stream",
     "text": [
      "Cylinder to Plane, Theoretical:0.1394\n",
      "\n",
      "Trials\tResult\tError\tTime\tMethod\n",
      "1e+02\t0.1200\t-13.9%\t0.00\tIteration\n",
      "1e+02\t0.1900\t36.3%\t0.00\tArray\n",
      "----------------------------------------\n",
      "1e+03\t0.1260\t-9.6%\t0.04\tIteration\n",
      "1e+03\t0.1510\t8.3%\t0.00\tArray\n",
      "----------------------------------------\n",
      "1e+04\t0.1403\t0.6%\t0.40\tIteration\n",
      "1e+04\t0.1364\t-2.2%\t0.01\tArray\n",
      "----------------------------------------\n",
      "1e+05\t0.1392\t-0.2%\t3.92\tIteration\n",
      "1e+05\t0.1391\t-0.2%\t0.05\tArray\n",
      "----------------------------------------\n",
      "1e+06\t0.1387\t-0.5%\t38.88\tIteration\n",
      "1e+06\t0.1394\t-0.0%\t0.54\tArray\n",
      "----------------------------------------\n"
     ]
    }
   ],
   "source": [
    "#psi2 is 2pi - psi\n",
    "def f_psi2(psi):\n",
    "    return 2 * np.pi - psi\n",
    "def f_big_e(phi,psi,array=True):\n",
    "    if array:\n",
    "        return f_big_e_array(phi,psi)\n",
    "    return phi if psi <= np.pi else phi + np.pi\n",
    "#When running array calculation, use f_big_e_array instead of f_big_e\n",
    "def f_big_e_array(phi,psi):\n",
    "    big_e = phi.copy()\n",
    "    I = psi > np.pi\n",
    "    big_e[I] = np.pi + big_e[I]\n",
    "    return big_e\n",
    "def f_x0(r_cyl,x_cyl,psi):\n",
    "    return x_cyl - r_cyl * np.sin(psi)\n",
    "def f_y0(r_cyl,y_cyl,psi):\n",
    "    return y_cyl - r_cyl * np.cos(psi)\n",
    "#NOTE! if emission never touches x0, function will likely return very large number, or possibly nan\n",
    "#NOTE! r may be negative, which should be filtered as no touch\n",
    "def f_r(x0,x_plane,theta,phi,psi,array=False):\n",
    "    psi_2 = f_psi2(psi)\n",
    "    big_e = f_big_e(phi,psi,array=array)\n",
    "    return (x_plane-x0)/(\n",
    "        (np.cos(theta) * np.sin(psi_2)) + \n",
    "        (np.sin(theta) * np.cos(big_e)*np.cos(psi_2))\n",
    "        )\n",
    "def f_y(r,y0,theta,phi,psi,array=False):\n",
    "    psi_2 = f_psi2(psi)\n",
    "    big_e = f_big_e(phi,psi,array=array)\n",
    "    return y0 - r *np.cos(theta)* np.cos(psi_2) + r * np.sin(theta) * np.cos(big_e) * np.sin(psi_2)\n",
    "def f_z(r,z0,theta,phi):\n",
    "    return z0 - r* np.sin(theta) * np.sin(phi)\n",
    "def f_calc_ryz(r_cyl,x_cyl,y_cyl,x_plane,z0, theta,phi,psi,array=False):\n",
    "    x0= f_x0(r_cyl,x_cyl,psi)\n",
    "    y0 = f_y0(r_cyl,y_cyl,psi)\n",
    "    r = f_r(x0,x_plane,theta,phi,psi,array=array)\n",
    "    y = f_y(r,y0,theta,phi,psi,array=array)\n",
    "    z = f_z(r,z0,theta,phi)\n",
    "    return r,y,z\n",
    "\n",
    "#Traditional Iteration:\n",
    "def main_c_p(num_iterations,r_cyl,x_cyl,y_cyl,x_plane,y_max,y_min,z_max,z_min):\n",
    "    count=0\n",
    "    shape = ()\n",
    "    for _ in range(num_iterations):\n",
    "        r,y,z = f_calc_ryz(\n",
    "            r_cyl = r_cyl,\n",
    "            x_cyl = x_cyl,\n",
    "            y_cyl = y_cyl,\n",
    "            x_plane=x_plane,\n",
    "            z0 = rand_gen_max_min(shape,z_max,z_min),\n",
    "            theta = rand_gen_cone(shape),\n",
    "            phi = rand_gen_angle(shape),\n",
    "            psi = rand_gen_angle(shape),\n",
    "            array=False\n",
    "            )\n",
    "        #SKIP if r < 0. It means ray goes opposite direction of plane\n",
    "        if r < 0:\n",
    "            continue\n",
    "        if y >= y_min:\n",
    "            if y <= y_max:\n",
    "                if z >= z_min:\n",
    "                    if z<=z_max:\n",
    "                        count+=1\n",
    "    return count / num_iterations\n",
    "\n",
    "# Note: Running calculations in an array, we an run the simulation an order of magnitude faster\n",
    "def main_c_p_array(num_iterations,r_cyl,x_cyl,y_cyl,x_plane,y_max,y_min,z_max,z_min):\n",
    "    shape = (num_iterations,)\n",
    "    r,y,z = f_calc_ryz(\n",
    "            r_cyl = r_cyl,\n",
    "            x_cyl = x_cyl,\n",
    "            y_cyl = y_cyl,\n",
    "            x_plane = x_plane,\n",
    "            z0 = rand_gen_max_min(shape,z_max,z_min),\n",
    "            theta = rand_gen_cone(shape),\n",
    "            phi = rand_gen_angle(shape),\n",
    "            psi = rand_gen_angle(shape),\n",
    "            array=True\n",
    "            )\n",
    "    y_pass = np.logical_and(y>=y_min, y<=y_max)\n",
    "    z_pass = np.logical_and(z>=z_min,z<=z_max)\n",
    "    yz_pass = np.logical_and(y_pass,z_pass)\n",
    "    r_pass = np.logical_and(yz_pass,r>0)\n",
    "    \n",
    "    return np.sum(r_pass) / num_iterations\n",
    "print('Cylinder to Plane, Theoretical:{:.4f}'.format(theory_c_p))\n",
    "print('\\nTrials\\tResult\\tError\\tTime\\tMethod')\n",
    "for iterations in [1e2,1e3,1e4,1e5,1e6]:\n",
    "    print_result_and_time(main_c_p,iterations,params_cp,theory_c_p,method='Iteration')\n",
    "    print_result_and_time(main_c_p_array,iterations,params_cp,theory_c_p,method='Array')\n",
    "    print('-'*40)"
   ]
  },
  {
   "cell_type": "markdown",
   "metadata": {
    "colab_type": "text",
    "id": "fSL0WAVUmiby"
   },
   "source": [
    "Here, it is obvious that using the array method is much faster than using a loop. From this point on, all simulations will be done using the array method. Also, with only 10,000 trials, the error is only about 2.2%, with only minor improvements when increasing trials by factors of ten. Still, the computer can calculate 1,000,000 trials in only 0.54 seconds, so there is no downside to having this many trials.\n"
   ]
  },
  {
   "cell_type": "markdown",
   "metadata": {
    "colab_type": "text",
    "id": "BNLEs6oJIiO7"
   },
   "source": [
    "# Plane to Cylinder\n",
    "While the plane-to-cylinder shape factor can be obtained with previous results and the reciprocity rule, in the interest of the Monte Carlo technique as a robust solution, I use the technique again for plane to cylinder.\n",
    "<h2>Derivation of Point of Intersection</h2>\n",
    "\n",
    "\n",
    "1.   Generate random variables for emission from plane.\n",
    "<p>y0 = rand * 8</p>\n",
    "<p>z0 = rand * (-2--8)-8</p>\n",
    "<p>theta = arcsin(sqrt(rand))</p>\n",
    "<p>phi = rand * 2pi</p>\n",
    "2.   Calculate possible intersection with cylinder.\n",
    "<p><img src=\"https://user-images.githubusercontent.com/48815706/79050801-46913180-7be1-11ea-822a-12308e65a95a.jpg\"> [from paper]</p>\n",
    "<p>The value under the radical must be positive.</p>\n",
    "<p>r must be positive.</p>\n",
    "3. See if z is between zmin and zmax.\n",
    "<p><img src=\"https://user-images.githubusercontent.com/48815706/79050908-e6e75600-7be1-11ea-839e-78fa6e1b3cda.jpg\"> [from paper]</p>\n",
    "<p>See if z is between -8 and -2.</p>\n",
    "\n",
    "\n"
   ]
  },
  {
   "cell_type": "code",
   "execution_count": 7,
   "metadata": {
    "colab": {
     "base_uri": "https://localhost:8080/",
     "height": 170
    },
    "colab_type": "code",
    "id": "hZvVZznmL0-7",
    "outputId": "3f8e4598-905b-4b35-a556-fa111807e91a"
   },
   "outputs": [
    {
     "name": "stdout",
     "output_type": "stream",
     "text": [
      "Plane to Cylinder, Theoretical:0.2189\n",
      "\n",
      "Trials\tResult\tError\tTime\tMethod\n",
      "1e+02\t0.2400\t9.6%\t0.00\tArray\n",
      "1e+03\t0.2000\t-8.6%\t0.00\tArray\n",
      "1e+04\t0.2211\t1.0%\t0.01\tArray\n",
      "1e+05\t0.2175\t-0.6%\t0.04\tArray\n",
      "1e+06\t0.2159\t-1.3%\t0.40\tArray\n",
      "1e+07\t0.2159\t-1.4%\t3.82\tArray\n"
     ]
    }
   ],
   "source": [
    "def f_a(theta,phi):\n",
    "    return np.square(np.cos(theta))+np.square(np.sin(theta))*np.square(np.cos(phi))\n",
    "def f_b(theta,phi,y0,x_cyl,y_cyl):\n",
    "    return 2*y_cyl*np.sin(theta)*np.cos(phi) - 2*x_cyl*np.cos(theta) - 2*y0*np.sin(theta)*np.cos(phi)\n",
    "def f_c(y0,r_cyl,x_cyl,y_cyl):\n",
    "    return np.square(y_cyl) + np.square(x_cyl) + np.square(y_cyl) - 2*y_cyl*y0 - np.square(r_cyl)\n",
    "#Outputs r and an boolean array which is True where r>0\n",
    "def f_r_and_valid(a,b,c):\n",
    "    r = np.zeros_like(a)\n",
    "    #check if negative under radical\n",
    "    I = (4*a*c)>(np.square(b))\n",
    "    r[~I]= ((-1* b[~I] - np.sqrt(np.square(b[~I])-4*a[~I]*c[~I]))/(2*a[~I])) \n",
    "    return r, r>(1e-10)\n",
    "def f_z(z0,r,theta,phi):\n",
    "    return z0 + r * np.sin(theta)*np.sin(phi)\n",
    "def valid_intersection(y0,z0,r_cyl,x_cyl,y_cyl,z_max,z_min,theta,phi):\n",
    "    a = f_a(theta,phi)\n",
    "    b = f_b(theta,phi,y0,x_cyl,y_cyl)\n",
    "    c = f_c(y0,r_cyl,x_cyl,y_cyl)\n",
    "    r,valids = f_r_and_valid(a,b,c)\n",
    "    z = f_z(z0,r,theta,phi)\n",
    "    return np.logical_and(valids,np.logical_and(z>=z_min,z<=z_max))\n",
    "def rand_gen_theta(shape):\n",
    "    return np.arcsin(np.sqrt(np.random.random(shape)))\n",
    "def rand_gen_phi(shape):\n",
    "    return np.random.random(shape) * 2 * np.pi\n",
    "def rand_gen_z0(shape,zmax,zmin):\n",
    "    return np.random.random(shape) * (zmax-zmin) +zmin\n",
    "def rand_gen_y0(shape,ymax,ymin):\n",
    "    return np.random.random(shape) * (ymax-ymin) +ymin\n",
    "def main_p_c(iterations,r_cyl,x_cyl,y_cyl,x_plane,y_max,y_min,z_max,z_min):\n",
    "    shape = (iterations,)\n",
    "    y0 = rand_gen_max_min(shape,y_max,y_min)\n",
    "    z0 = rand_gen_max_min(shape,z_max,z_min)\n",
    "    theta = rand_gen_cone(shape)\n",
    "    phi = rand_gen_angle(shape)\n",
    "    res= valid_intersection(y0,z0,r_cyl,x_cyl,y_cyl,z_max,z_min,theta,phi)\n",
    "    return np.sum(res) / iterations\n",
    "\n",
    "print('Plane to Cylinder, Theoretical:{:.4f}'.format(theory_p_c))\n",
    "print('\\nTrials\\tResult\\tError\\tTime\\tMethod')\n",
    "for iterations in [1e2,1e3,1e4,1e5,1e6,1e7]:\n",
    "    print_result_and_time(main_p_c,iterations,params_cp,theory_p_c,method='Array')   "
   ]
  },
  {
   "cell_type": "markdown",
   "metadata": {
    "colab_type": "text",
    "id": "L3n174JVXOHj"
   },
   "source": [
    "Interestingly, the model seems to generate fairly accurate results from 10,000 trials on, similar to in the cylinder-to-plane simulations. At 10,000 trials, the error is 1.0%, while results with larger trial sizes are -0.6%, -1.3%, and -1.4%. The accuracy seems to fluctuate with added trials - rather than become more accurate. This may be due to the randomness inherent in Monte Carlo simulations. I may then hypothesize that the 10,000 was \"lucky\" and that with re-runs of the simulation, larger trial sizes should produce more <i>precise</i> results (i.e. results with deviation). To test this, I run the simulations again with multiple runs of each trial size from 1e4 to 1e7."
   ]
  },
  {
   "cell_type": "code",
   "execution_count": 9,
   "metadata": {
    "colab": {
     "base_uri": "https://localhost:8080/",
     "height": 476
    },
    "colab_type": "code",
    "id": "xsHh10ySTZ66",
    "outputId": "832206dc-5eb3-438b-e824-7984f40c466f"
   },
   "outputs": [
    {
     "name": "stdout",
     "output_type": "stream",
     "text": [
      "Plane to Cylinder (Multiple Runs with Same Trial Size), Theoretical:0.2189\n",
      "\n",
      "Trials\tResult\tError\tTime\tMethod\n",
      "1e+04\t0.2109\t-3.7%\t0.01\tArray\n",
      "1e+04\t0.2213\t1.1%\t0.01\tArray\n",
      "1e+04\t0.2083\t-4.8%\t0.00\tArray\n",
      "1e+04\t0.2118\t-3.2%\t0.00\tArray\n",
      "1e+04\t0.2150\t-1.8%\t0.00\tArray\n",
      "----------------------------------------\n",
      "1e+05\t0.2143\t-2.1%\t0.05\tArray\n",
      "1e+05\t0.2160\t-1.3%\t0.05\tArray\n",
      "1e+05\t0.2163\t-1.2%\t0.05\tArray\n",
      "1e+05\t0.2153\t-1.7%\t0.05\tArray\n",
      "1e+05\t0.2162\t-1.2%\t0.05\tArray\n",
      "----------------------------------------\n",
      "1e+06\t0.2167\t-1.0%\t0.42\tArray\n",
      "1e+06\t0.2153\t-1.6%\t0.42\tArray\n",
      "1e+06\t0.2155\t-1.5%\t0.42\tArray\n",
      "1e+06\t0.2158\t-1.4%\t0.42\tArray\n",
      "1e+06\t0.2155\t-1.5%\t0.41\tArray\n",
      "----------------------------------------\n",
      "1e+07\t0.2160\t-1.3%\t3.85\tArray\n",
      "1e+07\t0.2160\t-1.3%\t3.87\tArray\n",
      "1e+07\t0.2160\t-1.3%\t3.90\tArray\n",
      "1e+07\t0.2160\t-1.3%\t3.89\tArray\n",
      "1e+07\t0.2160\t-1.3%\t3.89\tArray\n",
      "----------------------------------------\n"
     ]
    }
   ],
   "source": [
    "runs = 5\n",
    "print('Plane to Cylinder (Multiple Runs with Same Trial Size), Theoretical:{:.4f}'.format(theory_p_c))\n",
    "print('\\nTrials\\tResult\\tError\\tTime\\tMethod')\n",
    "for iterations in [1e4,1e5,1e6,1e7]:\n",
    "    for _ in range(runs):\n",
    "        print_result_and_time(main_p_c,iterations,params_cp,theory_p_c,method='Array')   \n",
    "    print('-'*40)"
   ]
  },
  {
   "cell_type": "markdown",
   "metadata": {
    "colab_type": "text",
    "id": "bQtccR--ZPgi"
   },
   "source": [
    "Testing the trial size versus precision hypothesis, results seem to validate the idea that more trials can give a more reliable shape factor. Note how with 1e4 trials, the error is between -4.8% and 1.1% on five runs. With 1e5 trials, it's between -2.1% and -1.2%, with 1e6 trials, it's between -1.6% and -1.0%, and with 1e7 trials, it's consistently at -1.3%. Strangely, the results seem to favor a negative error. Perhaps the theoretical number has been rounded up on its last decimal. Perhaps the float precision in the code execution is making errors when trying to determine inequalities near edges. For example, with floats, if two values are meant to be equal (like 0.01 and 0.00999999), they may fall toward the wrong side due to how the underlying code deals with precision rounding."
   ]
  },
  {
   "cell_type": "markdown",
   "metadata": {
    "colab_type": "text",
    "id": "t3O6zcnQ-p_Z"
   },
   "source": [
    "<p><img src=\"https://user-images.githubusercontent.com/48815706/79054472-f2df1200-7bf9-11ea-9451-70f221ffa73a.jpg\"></p>"
   ]
  },
  {
   "cell_type": "markdown",
   "metadata": {
    "colab_type": "text",
    "id": "xyniMo9Dfb9e"
   },
   "source": [
    "\n",
    "# Sphere to Circle\n",
    "Here, I follow the same procedure as in the previous simulations, but with new geometries.\n",
    "\n",
    "<h2>Derivation of Point of Intersection</h2>\n",
    "\n",
    "\n",
    "\n",
    "\n",
    "\n",
    "1.   Generate random variables.<p>x0 = rand * (xmax-xmin) + xmin, where xmin and xmax are boundaries of the sphere</p>\n",
    "<p>gamma = rand * 2pi</p>\n",
    "<p>theta = arcsin(sqrt(rand))</p>\n",
    "<p>phi = rand * 2pi</p>\n",
    "2.   Calculate the emission point.\n",
    "<p><img src=\"https://user-images.githubusercontent.com/48815706/79052447-79402780-7beb-11ea-83f8-e5a6c347f3fc.jpg\"> [from paper]</p>\n",
    "<p><img src=\"https://user-images.githubusercontent.com/48815706/79052511-da67fb00-7beb-11ea-8460-6e466ccd44e2.jpg\"></p>\n",
    "<p>alpha = arccos((x0-x_sph)/r_sph)</p>\n",
    "<p>The figure below shows a 2-dimensional view of 1000 points generated on the outside of the sphere.</p>\n",
    "<p><img src=\"https://user-images.githubusercontent.com/48815706/79053044-28cac900-7bef-11ea-8cb6-3180e915ae2f.png\"></p>\n",
    "3.   Follow the ray to the plane x=0 (on which the circle lies).\n",
    "<p><img src=\"https://user-images.githubusercontent.com/48815706/79052557-421e4600-7bec-11ea-9390-edb7bb1ee0ea.jpg\"> [from paper]</p>\n",
    "<p>r = (x_cir-x0)/[cos(theta)*cos(beta)*cos(G)-sin(theta)*sin(phi)*sin(G)+sin(theta)*cos(phi)*sin(beta)*cos(G)]</p>\n",
    "<p>r must be positive.</p>\n",
    "\n",
    "4.  See if y and z are in the circle on plane x=0.\n",
    "<p><img src=\"https://user-images.githubusercontent.com/48815706/79052650-dab4c600-7bec-11ea-88f9-17304131ca7e.jpg\"> [from paper]</p>\n",
    "<p> See if y and z points are within circle using equation:<br>\n",
    "(y-y_cir)^2 + (z-z_cir)^2 <= r_cir ^2\n",
    "</p>\n"
   ]
  },
  {
   "cell_type": "code",
   "execution_count": 13,
   "metadata": {
    "colab": {
     "base_uri": "https://localhost:8080/",
     "height": 170
    },
    "colab_type": "code",
    "id": "wIDB3FvTY2OS",
    "outputId": "4ec8087c-c7b8-4150-abb8-1fbd6e88d654"
   },
   "outputs": [
    {
     "name": "stdout",
     "output_type": "stream",
     "text": [
      "Sphere to Circle, Theoretical:0.0713\n",
      "\n",
      "Trials\tResult\tError\tTime\tMethod\n",
      "1e+02\t0.0400\t-43.9%\t0.00\tArray\n",
      "1e+03\t0.0930\t30.4%\t0.00\tArray\n",
      "1e+04\t0.0740\t3.8%\t0.01\tArray\n",
      "1e+05\t0.0726\t1.8%\t0.12\tArray\n",
      "1e+06\t0.0713\t0.1%\t1.08\tArray\n",
      "1e+07\t0.0712\t-0.1%\t10.28\tArray\n"
     ]
    }
   ],
   "source": [
    "def f_y0(r_sph,y_sph,alpha,gamma):\n",
    "    return y_sph + r_sph*np.sin(alpha)*np.cos(gamma)\n",
    "def f_z0(r_sph,z_sph,alpha,gamma):\n",
    "    return z_sph - r_sph*np.sin(alpha)*np.sin(gamma)\n",
    "def f_beta(y0,r_sph,y_sph): \n",
    "    return np.arcsin((y0-y_sph)/r_sph)\n",
    "def f_alpha(r_sph,x_sph,x0):\n",
    "    return np.arccos((x0-x_sph)/r_sph)\n",
    "def f_xi(x0,z0,x_sph,z_sph):\n",
    "    return np.arctan((z_sph-z0)/(x0-x_sph))\n",
    "def f_big_g(x0,z0,x_sph,z_sph,xi):\n",
    "    big_g = xi.copy()\n",
    "    I = np.logical_and(z0<z_sph,x0<x_sph)\n",
    "    big_g[I]=big_g[I]+np.pi\n",
    "    I = np.logical_and(z0>z_sph,x0<x_sph)\n",
    "    big_g[I]=big_g[I]+np.pi\n",
    "    I = np.logical_and(z0>z_sph,x0>x_sph)\n",
    "    big_g[I]=big_g[I]+2*np.pi\n",
    "    I = np.logical_and(z0==z_sph,x0==x_sph)\n",
    "    big_g[I]=np.pi/2\n",
    "    return big_g\n",
    "def f_y(r,y0,theta,phi,beta):\n",
    "    return y0 + r*np.cos(theta)*np.sin(beta)-r*np.sin(theta)*np.cos(phi)*np.cos(beta)\n",
    "def f_z(r,z0,theta,phi,beta,big_g):\n",
    "    return z0-r*np.cos(theta)*np.cos(beta)*np.sin(big_g)-r*np.sin(theta)*np.sin(phi)*np.cos(big_g)-r*np.sin(theta)*np.cos(phi)*np.sin(beta)*np.sin(big_g)\n",
    "def f_r(x0,x_cir,theta,phi,beta,big_g):\n",
    "    return (x_cir-x0)/(np.cos(theta)*np.cos(beta)*np.cos(big_g)-np.sin(theta)*np.sin(phi)*np.sin(big_g)+np.sin(theta)*np.cos(phi)*np.sin(beta)*np.cos(big_g))\n",
    "\n",
    "def rand_gen_gamma(shape):\n",
    "    return rand_gen_generic_angle(shape)\n",
    "def check_circle(y,z,r_cir,y_cir,z_cir):\n",
    "    return (np.square(y-y_cir) + np.square(z-z_cir))<np.square(r_cir)\n",
    "\n",
    "def main_s_c(iterations,r_sph,x_sph,y_sph,z_sph,r_cir,x_cir,y_cir,z_cir):\n",
    "    xmax = x_sph+r_sph\n",
    "    xmin = x_sph-r_sph\n",
    "    \n",
    "    shape = (iterations,)\n",
    "    x0 =rand_gen_max_min(shape,xmax,xmin) \n",
    "    gamma = rand_gen_angle(shape)\n",
    "    theta = rand_gen_cone(shape)\n",
    "    phi = rand_gen_angle(shape)\n",
    "    \n",
    "    alpha = f_alpha(r_sph,x_sph,x0)\n",
    "    y0 = f_y0(r_sph,y_sph,alpha,gamma)\n",
    "    z0 = f_z0(r_sph,z_sph,alpha,gamma)\n",
    "    beta = f_beta(y0,r_sph,y_sph)\n",
    "    xi = f_xi(x0,z0,x_sph,z_sph)\n",
    "    big_g = f_big_g(x0,z0,x_sph,z_sph,xi)\n",
    "\n",
    "    r = f_r(x0,x_cir,theta,phi,beta,big_g)\n",
    "    y = f_y(r,y0,theta,phi,beta)\n",
    "    z = f_z(r,z0,theta,phi,beta,big_g)\n",
    "    #r must be positive and y,z must fall inside of the circle\n",
    "    yz_pass = check_circle(y,z,r_cir,y_cir,z_cir)\n",
    "    r_pass = np.logical_and(yz_pass,r>0)\n",
    "    return np.sum(r_pass) / iterations\n",
    "print('Sphere to Circle, Theoretical:{:.4f}'.format(theory_s_c))\n",
    "print('\\nTrials\\tResult\\tError\\tTime\\tMethod')\n",
    "for iterations in [1e2,1e3,1e4,1e5,1e6,1e7]:\n",
    "    print_result_and_time(main_s_c,iterations,params_sc,theory_s_c,method='Array')  "
   ]
  },
  {
   "cell_type": "markdown",
   "metadata": {
    "colab_type": "text",
    "id": "AxAedgmDqv8R"
   },
   "source": [
    "Sphere-to-circle results are as expected. With increasing trial size, accuracy improves. At 1,000,000 trials, the error is 0.1%, and it is calculated in 1.08 seconds. This is outstanding!"
   ]
  },
  {
   "cell_type": "markdown",
   "metadata": {
    "colab_type": "text",
    "id": "I5IlLzfntfnf"
   },
   "source": [
    "# Circle to Sphere\n",
    "The final 4th environment is the radition from the circle on plane x=0 to the sphere. The procedure should be well understood by now.\n",
    "<h2>Derivation of Point of Intersection</h2>\n",
    "\n",
    "\n",
    "1.   Generate random variables.\n",
    "<p>r0= sqrt(rand) * r_cir</p>\n",
    "<p>angle0 = rand * 2pi</p>\n",
    "<p>theta = arcsin(sqrt(rand))</p>\n",
    "<p>phi = rand * 2pi</p>\n",
    "2.   Calculate the emission point.\n",
    "<p><img src=\"https://user-images.githubusercontent.com/48815706/79053645-bdcfc100-7bf3-11ea-80eb-d5bd76bac2e2.jpg\"></p>\n",
    "<p>x0 = 0</p>\n",
    "<p>y0 = y_cir + r0*sin(angle0)</p>\n",
    "<p>z0 = z_cir - r0*cos(angle0)</p>\n",
    "<p>The figure below shows 1000 randomly generate points on the x=0 plane.</p>\n",
    "<p><img src=\"https://user-images.githubusercontent.com/48815706/79053926-e5c02400-7bf5-11ea-8e5f-a03cc2c33118.png\"></p>\n",
    "3. Calculate possible intersection with sphere.\n",
    "<p><img src=\"https://user-images.githubusercontent.com/48815706/79053798-cecd0200-7bf4-11ea-8b19-15f6083597aa.jpg\"> [from paper]</p>\n",
    "<p> Value under radical must not be negative. </p>\n",
    "<p> r must be positive.</p>\n"
   ]
  },
  {
   "cell_type": "code",
   "execution_count": 15,
   "metadata": {
    "colab": {
     "base_uri": "https://localhost:8080/",
     "height": 170
    },
    "colab_type": "code",
    "id": "Vw9AtHInkFpq",
    "outputId": "76b5b3d5-cf10-4bdc-926a-4d9f75b69efb"
   },
   "outputs": [
    {
     "name": "stdout",
     "output_type": "stream",
     "text": [
      "Circle to Sphere, Theoretical:0.1268\n",
      "\n",
      "Trials\tResult\tError\tTime\tMethod\n",
      "1e+02\t0.1200\t-5.3%\t0.00\tArray\n",
      "1e+03\t0.1490\t17.5%\t0.00\tArray\n",
      "1e+04\t0.1257\t-0.8%\t0.01\tArray\n",
      "1e+05\t0.1271\t0.3%\t0.04\tArray\n",
      "1e+06\t0.1268\t0.1%\t0.35\tArray\n",
      "1e+07\t0.1267\t-0.0%\t3.35\tArray\n"
     ]
    }
   ],
   "source": [
    "def f_a():\n",
    "    return 1.0\n",
    "def f_b(y0,z0,x_sph,y_sph,z_sph,theta,phi):\n",
    "    return np.sin(theta) *np.cos(phi)*(2*y_sph-2*y0)+np.sin(theta)*np.sin(phi)*(2*z0-2*z_sph)-2*x_sph*np.cos(theta)\n",
    "def f_c(y0,z0,r_sph,x_sph,y_sph,z_sph):\n",
    "    return np.square(x_sph)+np.square(y_sph)+np.square(z_sph)+np.square(y0)+np.square(z0)-2*y_sph*y0-2*z_sph*z0-np.square(r_sph)\n",
    "#Outputs r and an boolean array which is True where r>0\n",
    "def f_r_and_valid(a,b,c):\n",
    "    r = np.zeros_like(b)\n",
    "    #check if negative under radical\n",
    "    I = (4*a*c)>(np.square(b))\n",
    "    r[~I]= ((-1* b[~I] - np.sqrt(np.square(b[~I])-4*a*c[~I]))/(2*a)) \n",
    "    return r, r>(1e-10)\n",
    "def f_y0(r0,y_cir,angle0):\n",
    "    return y_cir + r0 * np.sin(angle0)\n",
    "def f_z0(r0,z_cir,angle0):\n",
    "    return z_cir - r0 * np.cos(angle0)\n",
    "def valid_intersection(y0,z0,r_sph,x_sph,y_sph,z_sph,theta,phi):\n",
    "    a = f_a()\n",
    "    b = f_b(y0,z0,x_sph,y_sph,z_sph,theta,phi)\n",
    "    c = f_c(y0,z0,r_sph,x_sph,y_sph,z_sph)\n",
    "    r,valids = f_r_and_valid(a,b,c)\n",
    "    return valids\n",
    "def rand_gen_theta(shape):\n",
    "    return np.arcsin(np.sqrt(np.random.random(shape)))\n",
    "def rand_gen_phi(shape):\n",
    "    return np.random.random(shape) * 2 * np.pi\n",
    "def rand_gen_r0(shape,r_cir):\n",
    "    return np.sqrt(np.random.random(shape)) * r_cir\n",
    "def rand_gen_angle0(shape):\n",
    "    return np.random.random(shape) *2 * np.pi\n",
    "def main_c_s(iterations,r_sph,x_sph,y_sph,z_sph,r_cir,x_cir,y_cir,z_cir):\n",
    "    shape = (iterations,)\n",
    "    r0 = rand_gen_r0(shape,r_cir)\n",
    "    angle0 = rand_gen_angle(shape)\n",
    "    y0 = f_y0(r0,y_cir,angle0)\n",
    "    z0 = f_z0(r0,z_cir,angle0)\n",
    "    theta = rand_gen_cone(shape)\n",
    "    phi = rand_gen_angle(shape)\n",
    "    res= valid_intersection(y0,z0,r_sph,x_sph,y_sph,z_sph,theta,phi)\n",
    "    return np.sum(res) / iterations\n",
    "print('Circle to Sphere, Theoretical:{:.4f}'.format(theory_c_s))\n",
    "print('\\nTrials\\tResult\\tError\\tTime\\tMethod')\n",
    "for iterations in [1e2,1e3,1e4,1e5,1e6,1e7]:\n",
    "    print_result_and_time(main_c_s,iterations,params_sc,theory_c_s,method='Array')  "
   ]
  },
  {
   "cell_type": "markdown",
   "metadata": {
    "colab_type": "text",
    "id": "gNouktvT5I9c"
   },
   "source": [
    "The trial size 100 had a low error at -5.3%. This was probably \"lucky\" as demonstrated with multiple runs in the plane-to-cylinder block. Other than that, accuracy increases with trial size. At 1,000,000 trials, the calculated shape factor is about 0.1% off the theoretical."
   ]
  },
  {
   "cell_type": "markdown",
   "metadata": {
    "colab_type": "text",
    "id": "FMWYC3Vf5ytI"
   },
   "source": [
    "#Summary\n",
    "Below is a summary of calculated shape factors at 1,000,000 samples, along with theoretical values and error. (Shape factors are rounded to the 4th decimal place, which is why errors can be 0.1%, though the values appear to match the theoreticals.)\n",
    "\n",
    "\n",
    "*   Cylinder to Plane SF: 0.1394 TH:0.1394 ERR: -0.0%\n",
    "*   Plane to Cylinder SF: 0.2159 TH: 0.2189\tERR: -1.3%\n",
    "* Sphere to Circle SF: 0.0713\tTH: 0.0713 ERR: 0.1%\n",
    "* Circle to Sphere SF: 0.1268\tTH: 0.1268 ERR: 0.1% \n",
    "\n",
    "<p>Overall, the largest error is -1.3%, while the rest are very small. Likely modern technology, including computing power, random number generators, and optimized calculation has allowed this experiment to surpass the accuracy of the studied paper's. Moreover, these shape factor calculations can be run in a few seconds or less on a fair laptop in 2020. The Monte Carlo technique therefore seems invaluable for real world problems.</p>\n",
    "\n",
    "\n"
   ]
  },
  {
   "cell_type": "code",
   "execution_count": 0,
   "metadata": {
    "colab": {},
    "colab_type": "code",
    "id": "dBitx6EB4x08"
   },
   "outputs": [],
   "source": []
  }
 ],
 "metadata": {
  "colab": {
   "collapsed_sections": [],
   "name": "monte_carlo_shape_factors.ipynb",
   "provenance": []
  },
  "kernelspec": {
   "display_name": "Python 3",
   "language": "python",
   "name": "python3"
  },
  "language_info": {
   "codemirror_mode": {
    "name": "ipython",
    "version": 3
   },
   "file_extension": ".py",
   "mimetype": "text/x-python",
   "name": "python",
   "nbconvert_exporter": "python",
   "pygments_lexer": "ipython3",
   "version": "3.6.8"
  }
 },
 "nbformat": 4,
 "nbformat_minor": 1
}
